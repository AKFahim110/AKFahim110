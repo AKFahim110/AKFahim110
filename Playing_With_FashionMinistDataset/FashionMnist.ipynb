{
  "cells": [
    {
      "cell_type": "markdown",
      "id": "60d0523f",
      "metadata": {
        "id": "60d0523f"
      },
      "source": [
        "# Fashion MNIST with Convolutional Neural Networks (CNNs)\n",
        "Homework 2\n",
        "\n",
        "Adalat Khan Fahim\n",
        "\n",
        "2021521460110\n",
        "\n",
        "Welcome to my homework on deep learning with PyTorch using the Fashion MNIST dataset. In this project, we will build a Convolutional Neural Network (CNN) to classify various fashion items, including clothing, shoes, and accessories."
      ]
    },
    {
      "cell_type": "markdown",
      "id": "PgDaecAkkxud",
      "metadata": {
        "id": "PgDaecAkkxud"
      },
      "source": [
        "**Objectives:**\n",
        "\n",
        "Understand the structure of the Fashion MNIST dataset.\n",
        "\n",
        "Implement a CNN model using PyTorch.\n",
        "\n",
        "Train the model on the Fashion MNIST dataset.\n",
        "\n",
        "Evaluate the model's performance and accuracy."
      ]
    },
    {
      "cell_type": "markdown",
      "id": "DPyu2ee3oa8F",
      "metadata": {
        "id": "DPyu2ee3oa8F"
      },
      "source": [
        "# Install necessary libraries and dependencies"
      ]
    },
    {
      "cell_type": "code",
      "execution_count": null,
      "id": "94dfc07d",
      "metadata": {
        "colab": {
          "base_uri": "https://localhost:8080/"
        },
        "id": "94dfc07d",
        "outputId": "a86453af-121b-4747-d77f-9403c69a2218"
      },
      "outputs": [
        {
          "name": "stdout",
          "output_type": "stream",
          "text": [
            "Requirement already satisfied: numpy in /usr/local/lib/python3.10/dist-packages (1.26.4)\n",
            "Requirement already satisfied: torch in /usr/local/lib/python3.10/dist-packages (2.4.1+cu121)\n",
            "Requirement already satisfied: torchvision in /usr/local/lib/python3.10/dist-packages (0.19.1+cu121)\n",
            "Requirement already satisfied: filelock in /usr/local/lib/python3.10/dist-packages (from torch) (3.16.1)\n",
            "Requirement already satisfied: typing-extensions>=4.8.0 in /usr/local/lib/python3.10/dist-packages (from torch) (4.12.2)\n",
            "Requirement already satisfied: sympy in /usr/local/lib/python3.10/dist-packages (from torch) (1.13.3)\n",
            "Requirement already satisfied: networkx in /usr/local/lib/python3.10/dist-packages (from torch) (3.4)\n",
            "Requirement already satisfied: jinja2 in /usr/local/lib/python3.10/dist-packages (from torch) (3.1.4)\n",
            "Requirement already satisfied: fsspec in /usr/local/lib/python3.10/dist-packages (from torch) (2024.6.1)\n",
            "Requirement already satisfied: numpy in /usr/local/lib/python3.10/dist-packages (from torchvision) (1.26.4)\n",
            "Requirement already satisfied: pillow!=8.3.*,>=5.3.0 in /usr/local/lib/python3.10/dist-packages (from torchvision) (10.4.0)\n",
            "Requirement already satisfied: MarkupSafe>=2.0 in /usr/local/lib/python3.10/dist-packages (from jinja2->torch) (3.0.1)\n",
            "Requirement already satisfied: mpmath<1.4,>=1.1.0 in /usr/local/lib/python3.10/dist-packages (from sympy->torch) (1.3.0)\n",
            "Collecting jupyter\n",
            "  Downloading jupyter-1.1.1-py2.py3-none-any.whl.metadata (2.0 kB)\n",
            "Requirement already satisfied: notebook in /usr/local/lib/python3.10/dist-packages (from jupyter) (6.5.5)\n",
            "Requirement already satisfied: jupyter-console in /usr/local/lib/python3.10/dist-packages (from jupyter) (6.1.0)\n",
            "Requirement already satisfied: nbconvert in /usr/local/lib/python3.10/dist-packages (from jupyter) (6.5.4)\n",
            "Requirement already satisfied: ipykernel in /usr/local/lib/python3.10/dist-packages (from jupyter) (5.5.6)\n",
            "Requirement already satisfied: ipywidgets in /usr/local/lib/python3.10/dist-packages (from jupyter) (7.7.1)\n",
            "Collecting jupyterlab (from jupyter)\n",
            "  Downloading jupyterlab-4.2.5-py3-none-any.whl.metadata (16 kB)\n",
            "Requirement already satisfied: ipython-genutils in /usr/local/lib/python3.10/dist-packages (from ipykernel->jupyter) (0.2.0)\n",
            "Requirement already satisfied: ipython>=5.0.0 in /usr/local/lib/python3.10/dist-packages (from ipykernel->jupyter) (7.34.0)\n",
            "Requirement already satisfied: traitlets>=4.1.0 in /usr/local/lib/python3.10/dist-packages (from ipykernel->jupyter) (5.7.1)\n",
            "Requirement already satisfied: jupyter-client in /usr/local/lib/python3.10/dist-packages (from ipykernel->jupyter) (6.1.12)\n",
            "Requirement already satisfied: tornado>=4.2 in /usr/local/lib/python3.10/dist-packages (from ipykernel->jupyter) (6.3.3)\n",
            "Requirement already satisfied: widgetsnbextension~=3.6.0 in /usr/local/lib/python3.10/dist-packages (from ipywidgets->jupyter) (3.6.9)\n",
            "Requirement already satisfied: jupyterlab-widgets>=1.0.0 in /usr/local/lib/python3.10/dist-packages (from ipywidgets->jupyter) (3.0.13)\n",
            "Requirement already satisfied: prompt-toolkit!=3.0.0,!=3.0.1,<3.1.0,>=2.0.0 in /usr/local/lib/python3.10/dist-packages (from jupyter-console->jupyter) (3.0.48)\n",
            "Requirement already satisfied: pygments in /usr/local/lib/python3.10/dist-packages (from jupyter-console->jupyter) (2.18.0)\n",
            "Collecting async-lru>=1.0.0 (from jupyterlab->jupyter)\n",
            "  Downloading async_lru-2.0.4-py3-none-any.whl.metadata (4.5 kB)\n",
            "Collecting httpx>=0.25.0 (from jupyterlab->jupyter)\n",
            "  Downloading httpx-0.27.2-py3-none-any.whl.metadata (7.1 kB)\n",
            "Collecting ipykernel (from jupyter)\n",
            "  Downloading ipykernel-6.29.5-py3-none-any.whl.metadata (6.3 kB)\n",
            "Requirement already satisfied: jinja2>=3.0.3 in /usr/local/lib/python3.10/dist-packages (from jupyterlab->jupyter) (3.1.4)\n",
            "Requirement already satisfied: jupyter-core in /usr/local/lib/python3.10/dist-packages (from jupyterlab->jupyter) (5.7.2)\n",
            "Collecting jupyter-lsp>=2.0.0 (from jupyterlab->jupyter)\n",
            "  Downloading jupyter_lsp-2.2.5-py3-none-any.whl.metadata (1.8 kB)\n",
            "Collecting jupyter-server<3,>=2.4.0 (from jupyterlab->jupyter)\n",
            "  Downloading jupyter_server-2.14.2-py3-none-any.whl.metadata (8.4 kB)\n",
            "Collecting jupyterlab-server<3,>=2.27.1 (from jupyterlab->jupyter)\n",
            "  Downloading jupyterlab_server-2.27.3-py3-none-any.whl.metadata (5.9 kB)\n",
            "Requirement already satisfied: notebook-shim>=0.2 in /usr/local/lib/python3.10/dist-packages (from jupyterlab->jupyter) (0.2.4)\n",
            "Requirement already satisfied: packaging in /usr/local/lib/python3.10/dist-packages (from jupyterlab->jupyter) (24.1)\n",
            "Requirement already satisfied: setuptools>=40.1.0 in /usr/local/lib/python3.10/dist-packages (from jupyterlab->jupyter) (71.0.4)\n",
            "Requirement already satisfied: tomli>=1.2.2 in /usr/local/lib/python3.10/dist-packages (from jupyterlab->jupyter) (2.0.2)\n",
            "Collecting comm>=0.1.1 (from ipykernel->jupyter)\n",
            "  Downloading comm-0.2.2-py3-none-any.whl.metadata (3.7 kB)\n",
            "Requirement already satisfied: debugpy>=1.6.5 in /usr/local/lib/python3.10/dist-packages (from ipykernel->jupyter) (1.6.6)\n",
            "Requirement already satisfied: matplotlib-inline>=0.1 in /usr/local/lib/python3.10/dist-packages (from ipykernel->jupyter) (0.1.7)\n",
            "Requirement already satisfied: nest-asyncio in /usr/local/lib/python3.10/dist-packages (from ipykernel->jupyter) (1.6.0)\n",
            "Requirement already satisfied: psutil in /usr/local/lib/python3.10/dist-packages (from ipykernel->jupyter) (5.9.5)\n",
            "Requirement already satisfied: pyzmq>=24 in /usr/local/lib/python3.10/dist-packages (from ipykernel->jupyter) (24.0.1)\n",
            "Requirement already satisfied: lxml in /usr/local/lib/python3.10/dist-packages (from nbconvert->jupyter) (4.9.4)\n",
            "Requirement already satisfied: beautifulsoup4 in /usr/local/lib/python3.10/dist-packages (from nbconvert->jupyter) (4.12.3)\n",
            "Requirement already satisfied: bleach in /usr/local/lib/python3.10/dist-packages (from nbconvert->jupyter) (6.1.0)\n",
            "Requirement already satisfied: defusedxml in /usr/local/lib/python3.10/dist-packages (from nbconvert->jupyter) (0.7.1)\n",
            "Requirement already satisfied: entrypoints>=0.2.2 in /usr/local/lib/python3.10/dist-packages (from nbconvert->jupyter) (0.4)\n",
            "Requirement already satisfied: jupyterlab-pygments in /usr/local/lib/python3.10/dist-packages (from nbconvert->jupyter) (0.3.0)\n",
            "Requirement already satisfied: MarkupSafe>=2.0 in /usr/local/lib/python3.10/dist-packages (from nbconvert->jupyter) (3.0.1)\n",
            "Requirement already satisfied: mistune<2,>=0.8.1 in /usr/local/lib/python3.10/dist-packages (from nbconvert->jupyter) (0.8.4)\n",
            "Requirement already satisfied: nbclient>=0.5.0 in /usr/local/lib/python3.10/dist-packages (from nbconvert->jupyter) (0.10.0)\n",
            "Requirement already satisfied: nbformat>=5.1 in /usr/local/lib/python3.10/dist-packages (from nbconvert->jupyter) (5.10.4)\n",
            "Requirement already satisfied: pandocfilters>=1.4.1 in /usr/local/lib/python3.10/dist-packages (from nbconvert->jupyter) (1.5.1)\n",
            "Requirement already satisfied: tinycss2 in /usr/local/lib/python3.10/dist-packages (from nbconvert->jupyter) (1.3.0)\n",
            "Requirement already satisfied: argon2-cffi in /usr/local/lib/python3.10/dist-packages (from notebook->jupyter) (23.1.0)\n",
            "Requirement already satisfied: Send2Trash>=1.8.0 in /usr/local/lib/python3.10/dist-packages (from notebook->jupyter) (1.8.3)\n",
            "Requirement already satisfied: terminado>=0.8.3 in /usr/local/lib/python3.10/dist-packages (from notebook->jupyter) (0.18.1)\n",
            "Requirement already satisfied: prometheus-client in /usr/local/lib/python3.10/dist-packages (from notebook->jupyter) (0.21.0)\n",
            "Requirement already satisfied: nbclassic>=0.4.7 in /usr/local/lib/python3.10/dist-packages (from notebook->jupyter) (1.1.0)\n",
            "Requirement already satisfied: typing-extensions>=4.0.0 in /usr/local/lib/python3.10/dist-packages (from async-lru>=1.0.0->jupyterlab->jupyter) (4.12.2)\n",
            "Requirement already satisfied: anyio in /usr/local/lib/python3.10/dist-packages (from httpx>=0.25.0->jupyterlab->jupyter) (3.7.1)\n",
            "Requirement already satisfied: certifi in /usr/local/lib/python3.10/dist-packages (from httpx>=0.25.0->jupyterlab->jupyter) (2024.8.30)\n",
            "Collecting httpcore==1.* (from httpx>=0.25.0->jupyterlab->jupyter)\n",
            "  Downloading httpcore-1.0.6-py3-none-any.whl.metadata (21 kB)\n",
            "Requirement already satisfied: idna in /usr/local/lib/python3.10/dist-packages (from httpx>=0.25.0->jupyterlab->jupyter) (3.10)\n",
            "Requirement already satisfied: sniffio in /usr/local/lib/python3.10/dist-packages (from httpx>=0.25.0->jupyterlab->jupyter) (1.3.1)\n",
            "Collecting h11<0.15,>=0.13 (from httpcore==1.*->httpx>=0.25.0->jupyterlab->jupyter)\n",
            "  Downloading h11-0.14.0-py3-none-any.whl.metadata (8.2 kB)\n",
            "Collecting jedi>=0.16 (from ipython>=5.0.0->ipykernel->jupyter)\n",
            "  Downloading jedi-0.19.1-py2.py3-none-any.whl.metadata (22 kB)\n",
            "Requirement already satisfied: decorator in /usr/local/lib/python3.10/dist-packages (from ipython>=5.0.0->ipykernel->jupyter) (4.4.2)\n",
            "Requirement already satisfied: pickleshare in /usr/local/lib/python3.10/dist-packages (from ipython>=5.0.0->ipykernel->jupyter) (0.7.5)\n",
            "Requirement already satisfied: backcall in /usr/local/lib/python3.10/dist-packages (from ipython>=5.0.0->ipykernel->jupyter) (0.2.0)\n",
            "Requirement already satisfied: pexpect>4.3 in /usr/local/lib/python3.10/dist-packages (from ipython>=5.0.0->ipykernel->jupyter) (4.9.0)\n",
            "Requirement already satisfied: python-dateutil>=2.1 in /usr/local/lib/python3.10/dist-packages (from jupyter-client->ipykernel->jupyter) (2.8.2)\n",
            "Requirement already satisfied: platformdirs>=2.5 in /usr/local/lib/python3.10/dist-packages (from jupyter-core->jupyterlab->jupyter) (4.3.6)\n",
            "Collecting jupyter-client (from jupyter-console->jupyter)\n",
            "  Downloading jupyter_client-7.4.9-py3-none-any.whl.metadata (8.5 kB)\n",
            "Collecting jupyter-events>=0.9.0 (from jupyter-server<3,>=2.4.0->jupyterlab->jupyter)\n",
            "  Downloading jupyter_events-0.10.0-py3-none-any.whl.metadata (5.9 kB)\n",
            "Collecting jupyter-server-terminals>=0.4.4 (from jupyter-server<3,>=2.4.0->jupyterlab->jupyter)\n",
            "  Downloading jupyter_server_terminals-0.5.3-py3-none-any.whl.metadata (5.6 kB)\n",
            "Collecting overrides>=5.0 (from jupyter-server<3,>=2.4.0->jupyterlab->jupyter)\n",
            "  Downloading overrides-7.7.0-py3-none-any.whl.metadata (5.8 kB)\n",
            "Requirement already satisfied: websocket-client>=1.7 in /usr/local/lib/python3.10/dist-packages (from jupyter-server<3,>=2.4.0->jupyterlab->jupyter) (1.8.0)\n",
            "Requirement already satisfied: argon2-cffi-bindings in /usr/local/lib/python3.10/dist-packages (from argon2-cffi->notebook->jupyter) (21.2.0)\n",
            "Requirement already satisfied: babel>=2.10 in /usr/local/lib/python3.10/dist-packages (from jupyterlab-server<3,>=2.27.1->jupyterlab->jupyter) (2.16.0)\n",
            "Collecting json5>=0.9.0 (from jupyterlab-server<3,>=2.27.1->jupyterlab->jupyter)\n",
            "  Downloading json5-0.9.25-py3-none-any.whl.metadata (30 kB)\n",
            "Requirement already satisfied: jsonschema>=4.18.0 in /usr/local/lib/python3.10/dist-packages (from jupyterlab-server<3,>=2.27.1->jupyterlab->jupyter) (4.23.0)\n",
            "Requirement already satisfied: requests>=2.31 in /usr/local/lib/python3.10/dist-packages (from jupyterlab-server<3,>=2.27.1->jupyterlab->jupyter) (2.32.3)\n",
            "Requirement already satisfied: fastjsonschema>=2.15 in /usr/local/lib/python3.10/dist-packages (from nbformat>=5.1->nbconvert->jupyter) (2.20.0)\n",
            "Requirement already satisfied: wcwidth in /usr/local/lib/python3.10/dist-packages (from prompt-toolkit!=3.0.0,!=3.0.1,<3.1.0,>=2.0.0->jupyter-console->jupyter) (0.2.13)\n",
            "Requirement already satisfied: ptyprocess in /usr/local/lib/python3.10/dist-packages (from terminado>=0.8.3->notebook->jupyter) (0.7.0)\n",
            "Requirement already satisfied: soupsieve>1.2 in /usr/local/lib/python3.10/dist-packages (from beautifulsoup4->nbconvert->jupyter) (2.6)\n",
            "Requirement already satisfied: six>=1.9.0 in /usr/local/lib/python3.10/dist-packages (from bleach->nbconvert->jupyter) (1.16.0)\n",
            "Requirement already satisfied: webencodings in /usr/local/lib/python3.10/dist-packages (from bleach->nbconvert->jupyter) (0.5.1)\n",
            "Requirement already satisfied: exceptiongroup in /usr/local/lib/python3.10/dist-packages (from anyio->httpx>=0.25.0->jupyterlab->jupyter) (1.2.2)\n",
            "Requirement already satisfied: parso<0.9.0,>=0.8.3 in /usr/local/lib/python3.10/dist-packages (from jedi>=0.16->ipython>=5.0.0->ipykernel->jupyter) (0.8.4)\n",
            "Requirement already satisfied: attrs>=22.2.0 in /usr/local/lib/python3.10/dist-packages (from jsonschema>=4.18.0->jupyterlab-server<3,>=2.27.1->jupyterlab->jupyter) (24.2.0)\n",
            "Requirement already satisfied: jsonschema-specifications>=2023.03.6 in /usr/local/lib/python3.10/dist-packages (from jsonschema>=4.18.0->jupyterlab-server<3,>=2.27.1->jupyterlab->jupyter) (2024.10.1)\n",
            "Requirement already satisfied: referencing>=0.28.4 in /usr/local/lib/python3.10/dist-packages (from jsonschema>=4.18.0->jupyterlab-server<3,>=2.27.1->jupyterlab->jupyter) (0.35.1)\n",
            "Requirement already satisfied: rpds-py>=0.7.1 in /usr/local/lib/python3.10/dist-packages (from jsonschema>=4.18.0->jupyterlab-server<3,>=2.27.1->jupyterlab->jupyter) (0.20.0)\n",
            "Collecting python-json-logger>=2.0.4 (from jupyter-events>=0.9.0->jupyter-server<3,>=2.4.0->jupyterlab->jupyter)\n",
            "  Downloading python_json_logger-2.0.7-py3-none-any.whl.metadata (6.5 kB)\n",
            "Requirement already satisfied: pyyaml>=5.3 in /usr/local/lib/python3.10/dist-packages (from jupyter-events>=0.9.0->jupyter-server<3,>=2.4.0->jupyterlab->jupyter) (6.0.2)\n",
            "Collecting rfc3339-validator (from jupyter-events>=0.9.0->jupyter-server<3,>=2.4.0->jupyterlab->jupyter)\n",
            "  Downloading rfc3339_validator-0.1.4-py2.py3-none-any.whl.metadata (1.5 kB)\n",
            "Collecting rfc3986-validator>=0.1.1 (from jupyter-events>=0.9.0->jupyter-server<3,>=2.4.0->jupyterlab->jupyter)\n",
            "  Downloading rfc3986_validator-0.1.1-py2.py3-none-any.whl.metadata (1.7 kB)\n",
            "Requirement already satisfied: charset-normalizer<4,>=2 in /usr/local/lib/python3.10/dist-packages (from requests>=2.31->jupyterlab-server<3,>=2.27.1->jupyterlab->jupyter) (3.4.0)\n",
            "Requirement already satisfied: urllib3<3,>=1.21.1 in /usr/local/lib/python3.10/dist-packages (from requests>=2.31->jupyterlab-server<3,>=2.27.1->jupyterlab->jupyter) (2.2.3)\n",
            "Requirement already satisfied: cffi>=1.0.1 in /usr/local/lib/python3.10/dist-packages (from argon2-cffi-bindings->argon2-cffi->notebook->jupyter) (1.17.1)\n",
            "Requirement already satisfied: pycparser in /usr/local/lib/python3.10/dist-packages (from cffi>=1.0.1->argon2-cffi-bindings->argon2-cffi->notebook->jupyter) (2.22)\n",
            "Collecting fqdn (from jsonschema[format-nongpl]>=4.18.0->jupyter-events>=0.9.0->jupyter-server<3,>=2.4.0->jupyterlab->jupyter)\n",
            "  Downloading fqdn-1.5.1-py3-none-any.whl.metadata (1.4 kB)\n",
            "Collecting isoduration (from jsonschema[format-nongpl]>=4.18.0->jupyter-events>=0.9.0->jupyter-server<3,>=2.4.0->jupyterlab->jupyter)\n",
            "  Downloading isoduration-20.11.0-py3-none-any.whl.metadata (5.7 kB)\n",
            "Collecting jsonpointer>1.13 (from jsonschema[format-nongpl]>=4.18.0->jupyter-events>=0.9.0->jupyter-server<3,>=2.4.0->jupyterlab->jupyter)\n",
            "  Downloading jsonpointer-3.0.0-py2.py3-none-any.whl.metadata (2.3 kB)\n",
            "Collecting uri-template (from jsonschema[format-nongpl]>=4.18.0->jupyter-events>=0.9.0->jupyter-server<3,>=2.4.0->jupyterlab->jupyter)\n",
            "  Downloading uri_template-1.3.0-py3-none-any.whl.metadata (8.8 kB)\n",
            "Requirement already satisfied: webcolors>=24.6.0 in /usr/local/lib/python3.10/dist-packages (from jsonschema[format-nongpl]>=4.18.0->jupyter-events>=0.9.0->jupyter-server<3,>=2.4.0->jupyterlab->jupyter) (24.8.0)\n",
            "Collecting arrow>=0.15.0 (from isoduration->jsonschema[format-nongpl]>=4.18.0->jupyter-events>=0.9.0->jupyter-server<3,>=2.4.0->jupyterlab->jupyter)\n",
            "  Downloading arrow-1.3.0-py3-none-any.whl.metadata (7.5 kB)\n",
            "Collecting types-python-dateutil>=2.8.10 (from arrow>=0.15.0->isoduration->jsonschema[format-nongpl]>=4.18.0->jupyter-events>=0.9.0->jupyter-server<3,>=2.4.0->jupyterlab->jupyter)\n",
            "  Downloading types_python_dateutil-2.9.0.20241003-py3-none-any.whl.metadata (1.9 kB)\n",
            "Downloading jupyter-1.1.1-py2.py3-none-any.whl (2.7 kB)\n",
            "Downloading jupyterlab-4.2.5-py3-none-any.whl (11.6 MB)\n",
            "\u001b[2K   \u001b[90m━━━━━━━━━━━━━━━━━━━━━━━━━━━━━━━━━━━━━━━━\u001b[0m \u001b[32m11.6/11.6 MB\u001b[0m \u001b[31m55.5 MB/s\u001b[0m eta \u001b[36m0:00:00\u001b[0m\n",
            "\u001b[?25hDownloading ipykernel-6.29.5-py3-none-any.whl (117 kB)\n",
            "\u001b[2K   \u001b[90m━━━━━━━━━━━━━━━━━━━━━━━━━━━━━━━━━━━━━━━━\u001b[0m \u001b[32m117.2/117.2 kB\u001b[0m \u001b[31m7.9 MB/s\u001b[0m eta \u001b[36m0:00:00\u001b[0m\n",
            "\u001b[?25hDownloading async_lru-2.0.4-py3-none-any.whl (6.1 kB)\n",
            "Downloading comm-0.2.2-py3-none-any.whl (7.2 kB)\n",
            "Downloading httpx-0.27.2-py3-none-any.whl (76 kB)\n",
            "\u001b[2K   \u001b[90m━━━━━━━━━━━━━━━━━━━━━━━━━━━━━━━━━━━━━━━━\u001b[0m \u001b[32m76.4/76.4 kB\u001b[0m \u001b[31m5.3 MB/s\u001b[0m eta \u001b[36m0:00:00\u001b[0m\n",
            "\u001b[?25hDownloading httpcore-1.0.6-py3-none-any.whl (78 kB)\n",
            "\u001b[2K   \u001b[90m━━━━━━━━━━━━━━━━━━━━━━━━━━━━━━━━━━━━━━━━\u001b[0m \u001b[32m78.0/78.0 kB\u001b[0m \u001b[31m5.7 MB/s\u001b[0m eta \u001b[36m0:00:00\u001b[0m\n",
            "\u001b[?25hDownloading jupyter_lsp-2.2.5-py3-none-any.whl (69 kB)\n",
            "\u001b[2K   \u001b[90m━━━━━━━━━━━━━━━━━━━━━━━━━━━━━━━━━━━━━━━━\u001b[0m \u001b[32m69.1/69.1 kB\u001b[0m \u001b[31m4.3 MB/s\u001b[0m eta \u001b[36m0:00:00\u001b[0m\n",
            "\u001b[?25hDownloading jupyter_server-2.14.2-py3-none-any.whl (383 kB)\n",
            "\u001b[2K   \u001b[90m━━━━━━━━━━━━━━━━━━━━━━━━━━━━━━━━━━━━━━━━\u001b[0m \u001b[32m383.6/383.6 kB\u001b[0m \u001b[31m22.2 MB/s\u001b[0m eta \u001b[36m0:00:00\u001b[0m\n",
            "\u001b[?25hDownloading jupyter_client-7.4.9-py3-none-any.whl (133 kB)\n",
            "\u001b[2K   \u001b[90m━━━━━━━━━━━━━━━━━━━━━━━━━━━━━━━━━━━━━━━━\u001b[0m \u001b[32m133.5/133.5 kB\u001b[0m \u001b[31m9.8 MB/s\u001b[0m eta \u001b[36m0:00:00\u001b[0m\n",
            "\u001b[?25hDownloading jupyterlab_server-2.27.3-py3-none-any.whl (59 kB)\n",
            "\u001b[2K   \u001b[90m━━━━━━━━━━━━━━━━━━━━━━━━━━━━━━━━━━━━━━━━\u001b[0m \u001b[32m59.7/59.7 kB\u001b[0m \u001b[31m4.4 MB/s\u001b[0m eta \u001b[36m0:00:00\u001b[0m\n",
            "\u001b[?25hDownloading jedi-0.19.1-py2.py3-none-any.whl (1.6 MB)\n",
            "\u001b[2K   \u001b[90m━━━━━━━━━━━━━━━━━━━━━━━━━━━━━━━━━━━━━━━━\u001b[0m \u001b[32m1.6/1.6 MB\u001b[0m \u001b[31m45.2 MB/s\u001b[0m eta \u001b[36m0:00:00\u001b[0m\n",
            "\u001b[?25hDownloading json5-0.9.25-py3-none-any.whl (30 kB)\n",
            "Downloading jupyter_events-0.10.0-py3-none-any.whl (18 kB)\n",
            "Downloading jupyter_server_terminals-0.5.3-py3-none-any.whl (13 kB)\n",
            "Downloading overrides-7.7.0-py3-none-any.whl (17 kB)\n",
            "Downloading h11-0.14.0-py3-none-any.whl (58 kB)\n",
            "\u001b[2K   \u001b[90m━━━━━━━━━━━━━━━━━━━━━━━━━━━━━━━━━━━━━━━━\u001b[0m \u001b[32m58.3/58.3 kB\u001b[0m \u001b[31m3.8 MB/s\u001b[0m eta \u001b[36m0:00:00\u001b[0m\n",
            "\u001b[?25hDownloading python_json_logger-2.0.7-py3-none-any.whl (8.1 kB)\n",
            "Downloading rfc3986_validator-0.1.1-py2.py3-none-any.whl (4.2 kB)\n",
            "Downloading rfc3339_validator-0.1.4-py2.py3-none-any.whl (3.5 kB)\n",
            "Downloading jsonpointer-3.0.0-py2.py3-none-any.whl (7.6 kB)\n",
            "Downloading fqdn-1.5.1-py3-none-any.whl (9.1 kB)\n",
            "Downloading isoduration-20.11.0-py3-none-any.whl (11 kB)\n",
            "Downloading uri_template-1.3.0-py3-none-any.whl (11 kB)\n",
            "Downloading arrow-1.3.0-py3-none-any.whl (66 kB)\n",
            "\u001b[2K   \u001b[90m━━━━━━━━━━━━━━━━━━━━━━━━━━━━━━━━━━━━━━━━\u001b[0m \u001b[32m66.4/66.4 kB\u001b[0m \u001b[31m3.6 MB/s\u001b[0m eta \u001b[36m0:00:00\u001b[0m\n",
            "\u001b[?25hDownloading types_python_dateutil-2.9.0.20241003-py3-none-any.whl (9.7 kB)\n",
            "Installing collected packages: uri-template, types-python-dateutil, rfc3986-validator, rfc3339-validator, python-json-logger, overrides, jsonpointer, json5, jedi, h11, fqdn, comm, async-lru, jupyter-server-terminals, jupyter-client, httpcore, arrow, isoduration, ipykernel, httpx, jupyter-events, jupyter-server, jupyterlab-server, jupyter-lsp, jupyterlab, jupyter\n",
            "  Attempting uninstall: jupyter-client\n",
            "    Found existing installation: jupyter-client 6.1.12\n",
            "    Uninstalling jupyter-client-6.1.12:\n",
            "      Successfully uninstalled jupyter-client-6.1.12\n",
            "  Attempting uninstall: ipykernel\n",
            "    Found existing installation: ipykernel 5.5.6\n",
            "    Uninstalling ipykernel-5.5.6:\n",
            "      Successfully uninstalled ipykernel-5.5.6\n",
            "  Attempting uninstall: jupyter-server\n",
            "    Found existing installation: jupyter-server 1.24.0\n",
            "    Uninstalling jupyter-server-1.24.0:\n",
            "      Successfully uninstalled jupyter-server-1.24.0\n",
            "\u001b[31mERROR: pip's dependency resolver does not currently take into account all the packages that are installed. This behaviour is the source of the following dependency conflicts.\n",
            "google-colab 1.0.0 requires ipykernel==5.5.6, but you have ipykernel 6.29.5 which is incompatible.\u001b[0m\u001b[31m\n",
            "\u001b[0mSuccessfully installed arrow-1.3.0 async-lru-2.0.4 comm-0.2.2 fqdn-1.5.1 h11-0.14.0 httpcore-1.0.6 httpx-0.27.2 ipykernel-6.29.5 isoduration-20.11.0 jedi-0.19.1 json5-0.9.25 jsonpointer-3.0.0 jupyter-1.1.1 jupyter-client-7.4.9 jupyter-events-0.10.0 jupyter-lsp-2.2.5 jupyter-server-2.14.2 jupyter-server-terminals-0.5.3 jupyterlab-4.2.5 jupyterlab-server-2.27.3 overrides-7.7.0 python-json-logger-2.0.7 rfc3339-validator-0.1.4 rfc3986-validator-0.1.1 types-python-dateutil-2.9.0.20241003 uri-template-1.3.0\n",
            "Requirement already satisfied: scikit-learn in /usr/local/lib/python3.10/dist-packages (1.5.2)\n",
            "Requirement already satisfied: numpy>=1.19.5 in /usr/local/lib/python3.10/dist-packages (from scikit-learn) (1.26.4)\n",
            "Requirement already satisfied: scipy>=1.6.0 in /usr/local/lib/python3.10/dist-packages (from scikit-learn) (1.13.1)\n",
            "Requirement already satisfied: joblib>=1.2.0 in /usr/local/lib/python3.10/dist-packages (from scikit-learn) (1.4.2)\n",
            "Requirement already satisfied: threadpoolctl>=3.1.0 in /usr/local/lib/python3.10/dist-packages (from scikit-learn) (3.5.0)\n",
            "Requirement already satisfied: seaborn in /usr/local/lib/python3.10/dist-packages (0.13.2)\n",
            "Requirement already satisfied: matplotlib in /usr/local/lib/python3.10/dist-packages (3.7.1)\n",
            "Requirement already satisfied: numpy!=1.24.0,>=1.20 in /usr/local/lib/python3.10/dist-packages (from seaborn) (1.26.4)\n",
            "Requirement already satisfied: pandas>=1.2 in /usr/local/lib/python3.10/dist-packages (from seaborn) (2.2.2)\n",
            "Requirement already satisfied: contourpy>=1.0.1 in /usr/local/lib/python3.10/dist-packages (from matplotlib) (1.3.0)\n",
            "Requirement already satisfied: cycler>=0.10 in /usr/local/lib/python3.10/dist-packages (from matplotlib) (0.12.1)\n",
            "Requirement already satisfied: fonttools>=4.22.0 in /usr/local/lib/python3.10/dist-packages (from matplotlib) (4.54.1)\n",
            "Requirement already satisfied: kiwisolver>=1.0.1 in /usr/local/lib/python3.10/dist-packages (from matplotlib) (1.4.7)\n",
            "Requirement already satisfied: packaging>=20.0 in /usr/local/lib/python3.10/dist-packages (from matplotlib) (24.1)\n",
            "Requirement already satisfied: pillow>=6.2.0 in /usr/local/lib/python3.10/dist-packages (from matplotlib) (10.4.0)\n",
            "Requirement already satisfied: pyparsing>=2.3.1 in /usr/local/lib/python3.10/dist-packages (from matplotlib) (3.1.4)\n",
            "Requirement already satisfied: python-dateutil>=2.7 in /usr/local/lib/python3.10/dist-packages (from matplotlib) (2.8.2)\n",
            "Requirement already satisfied: pytz>=2020.1 in /usr/local/lib/python3.10/dist-packages (from pandas>=1.2->seaborn) (2024.2)\n",
            "Requirement already satisfied: tzdata>=2022.7 in /usr/local/lib/python3.10/dist-packages (from pandas>=1.2->seaborn) (2024.2)\n",
            "Requirement already satisfied: six>=1.5 in /usr/local/lib/python3.10/dist-packages (from python-dateutil>=2.7->matplotlib) (1.16.0)\n"
          ]
        }
      ],
      "source": [
        "\n",
        "%pip install numpy\n",
        "%pip install torch torchvision\n",
        "%pip install jupyter\n",
        "%pip install scikit-learn\n",
        "%pip install seaborn matplotlib\n",
        "# !pip install numpy\n",
        "# !pip install torch torchvision\n",
        "# !pip install jupyter\n",
        "# !pip install scikit-learn\n",
        "# !pip install seaborn matplotlib"
      ]
    },
    {
      "cell_type": "markdown",
      "id": "c5b32885",
      "metadata": {
        "id": "c5b32885"
      },
      "source": [
        "## Setup and Installation\n",
        "\n",
        "Let's start by importing the necessary libraries and modules required for our tutorial.\n"
      ]
    },
    {
      "cell_type": "code",
      "execution_count": null,
      "id": "952eb33b",
      "metadata": {
        "colab": {
          "base_uri": "https://localhost:8080/"
        },
        "id": "952eb33b",
        "outputId": "fff532fc-dfc5-4d26-e481-1c9a9cbee1ef"
      },
      "outputs": [
        {
          "name": "stdout",
          "output_type": "stream",
          "text": [
            "Running on cpu.\n"
          ]
        },
        {
          "data": {
            "text/plain": [
              "device(type='cpu')"
            ]
          },
          "execution_count": 2,
          "metadata": {},
          "output_type": "execute_result"
        }
      ],
      "source": [
        "import torch\n",
        "import torchvision\n",
        "import torchvision.transforms as transforms\n",
        "import torch.nn as nn\n",
        "import torch.nn.functional as F\n",
        "import torch.optim as optim\n",
        "\n",
        "import numpy as np\n",
        "import matplotlib.pyplot as plt\n",
        "\n",
        "# For reproducibility\n",
        "torch.manual_seed(42)\n",
        "np.random.seed(42)\n",
        "\n",
        "# Setting up device for GPU usage if available\n",
        "device = torch.device(\"cuda\" if torch.cuda.is_available() else \"cpu\")\n",
        "print(f\"Running on {device}.\")\n",
        "\n",
        "device\n"
      ]
    },
    {
      "cell_type": "markdown",
      "id": "f78283c9",
      "metadata": {
        "id": "f78283c9"
      },
      "source": [
        "## Understanding the Fashion MNIST Dataset\n",
        "\n",
        "The Fashion MNIST dataset is a collection of grayscale images of 10 fashion categories, each of size 28x28 pixels. It's used as a drop-in replacement for the classic MNIST dataset. It serves as a more challenging classification problem than the regular MNIST digit dataset due to the similarities in clothing items.\n",
        "\n",
        "![Fashion MNIST Sample](https://github.com/zalandoresearch/fashion-mnist/raw/master/doc/img/fashion-mnist-sprite.png)\n",
        "\n",
        "Each image in the dataset corresponds to a label from 0-9, representing the ten categories:\n",
        "\n",
        "| Label | Description |\n",
        "| --- | --- |\n",
        "| 0 | T-shirt/top |\n",
        "| 1 | Trouser |\n",
        "| 2 | Pullover |\n",
        "| 3 | Dress |\n",
        "| 4 | Coat |\n",
        "| 5 | Sandal |\n",
        "| 6 | Shirt |\n",
        "| 7 | Sneaker |\n",
        "| 8 | Bag |\n",
        "| 9 | Ankle boot |\n"
      ]
    },
    {
      "cell_type": "markdown",
      "id": "c6fae0bf",
      "metadata": {
        "id": "c6fae0bf"
      },
      "source": [
        "## Data Loading and Preprocessing\n",
        "\n",
        "To process and use the Fashion MNIST dataset with PyTorch, we'll utilize the `torchvision` module, which provides a convenient API to load and transform datasets.\n",
        "\n",
        "\n",
        "\n",
        "\n"
      ]
    },
    {
      "cell_type": "code",
      "execution_count": null,
      "id": "c4710455",
      "metadata": {
        "colab": {
          "base_uri": "https://localhost:8080/"
        },
        "id": "c4710455",
        "outputId": "f9a48dc2-9e82-4570-f62c-927e047f160d"
      },
      "outputs": [
        {
          "name": "stdout",
          "output_type": "stream",
          "text": [
            "Downloading http://fashion-mnist.s3-website.eu-central-1.amazonaws.com/train-images-idx3-ubyte.gz\n",
            "Downloading http://fashion-mnist.s3-website.eu-central-1.amazonaws.com/train-images-idx3-ubyte.gz to ./data/FashionMNIST/raw/train-images-idx3-ubyte.gz\n"
          ]
        },
        {
          "name": "stderr",
          "output_type": "stream",
          "text": [
            "100%|██████████| 26421880/26421880 [00:04<00:00, 6276040.65it/s] \n"
          ]
        },
        {
          "name": "stdout",
          "output_type": "stream",
          "text": [
            "Extracting ./data/FashionMNIST/raw/train-images-idx3-ubyte.gz to ./data/FashionMNIST/raw\n",
            "\n",
            "Downloading http://fashion-mnist.s3-website.eu-central-1.amazonaws.com/train-labels-idx1-ubyte.gz\n",
            "Downloading http://fashion-mnist.s3-website.eu-central-1.amazonaws.com/train-labels-idx1-ubyte.gz to ./data/FashionMNIST/raw/train-labels-idx1-ubyte.gz\n"
          ]
        },
        {
          "name": "stderr",
          "output_type": "stream",
          "text": [
            "100%|██████████| 29515/29515 [00:00<00:00, 306360.04it/s]\n"
          ]
        },
        {
          "name": "stdout",
          "output_type": "stream",
          "text": [
            "Extracting ./data/FashionMNIST/raw/train-labels-idx1-ubyte.gz to ./data/FashionMNIST/raw\n",
            "\n",
            "Downloading http://fashion-mnist.s3-website.eu-central-1.amazonaws.com/t10k-images-idx3-ubyte.gz\n",
            "Downloading http://fashion-mnist.s3-website.eu-central-1.amazonaws.com/t10k-images-idx3-ubyte.gz to ./data/FashionMNIST/raw/t10k-images-idx3-ubyte.gz\n"
          ]
        },
        {
          "name": "stderr",
          "output_type": "stream",
          "text": [
            "100%|██████████| 4422102/4422102 [00:00<00:00, 5583992.92it/s]\n"
          ]
        },
        {
          "name": "stdout",
          "output_type": "stream",
          "text": [
            "Extracting ./data/FashionMNIST/raw/t10k-images-idx3-ubyte.gz to ./data/FashionMNIST/raw\n",
            "\n",
            "Downloading http://fashion-mnist.s3-website.eu-central-1.amazonaws.com/t10k-labels-idx1-ubyte.gz\n",
            "Downloading http://fashion-mnist.s3-website.eu-central-1.amazonaws.com/t10k-labels-idx1-ubyte.gz to ./data/FashionMNIST/raw/t10k-labels-idx1-ubyte.gz\n"
          ]
        },
        {
          "name": "stderr",
          "output_type": "stream",
          "text": [
            "100%|██████████| 5148/5148 [00:00<00:00, 5004003.94it/s]\n"
          ]
        },
        {
          "name": "stdout",
          "output_type": "stream",
          "text": [
            "Extracting ./data/FashionMNIST/raw/t10k-labels-idx1-ubyte.gz to ./data/FashionMNIST/raw\n",
            "\n"
          ]
        }
      ],
      "source": [
        "# Import the necessary transformations module from torchvision\n",
        "import torchvision.transforms as transforms\n",
        "\n",
        "# Define a transformation pipeline.\n",
        "# Here, we're only converting the images to PyTorch tensor format.\n",
        "transform = transforms.Compose([transforms.ToTensor()])\n",
        "\n",
        "# Using torchvision, load the Fashion MNIST training dataset.\n",
        "# root specifies the directory where the dataset will be stored.\n",
        "# train=True indicates that we want the training dataset.\n",
        "# download=True will download the dataset if it's not present in the specified root directory.\n",
        "# transform applies the defined transformations to the images.\n",
        "trainset = torchvision.datasets.FashionMNIST(root='./data', train=True, download=True, transform=transform)\n",
        "\n",
        "# Create a data loader for the training set.\n",
        "# It will provide batches of data, in this case, batches of size 4.\n",
        "# shuffle=True ensures that the data is shuffled at the start of each epoch.\n",
        "# num_workers=2 indicates that two subprocesses will be used for data loading.\n",
        "trainloader = torch.utils.data.DataLoader(trainset, batch_size=4, shuffle=True, num_workers=2)\n",
        "\n",
        "# Similarly, load the Fashion MNIST test dataset.\n",
        "testset = torchvision.datasets.FashionMNIST(root='./data', train=False, download=True, transform=transform)\n",
        "testloader = torch.utils.data.DataLoader(testset, batch_size=4, shuffle=False, num_workers=2)\n",
        "\n",
        "# Define the class labels for the Fashion MNIST dataset.\n",
        "classes = ('T-shirt/top', 'Trouser', 'Pullover', 'Dress', 'Coat',\n",
        "           'Sandal', 'Shirt', 'Sneaker', 'Bag', 'Ankle boot')"
      ]
    },
    {
      "cell_type": "markdown",
      "id": "34xEHA0EsWya",
      "metadata": {
        "id": "34xEHA0EsWya"
      },
      "source": [
        "**Now let's see a batch of image as example just to check the dataset is working fine**"
      ]
    },
    {
      "cell_type": "code",
      "execution_count": null,
      "id": "nLEnwz-ZrS9M",
      "metadata": {
        "colab": {
          "base_uri": "https://localhost:8080/",
          "height": 185
        },
        "id": "nLEnwz-ZrS9M",
        "outputId": "09898eff-1d3e-47d3-db1b-267a4c051486"
      },
      "outputs": [
        {
          "name": "stdout",
          "output_type": "stream",
          "text": [
            "Sandal Sneaker Coat Sneaker\n"
          ]
        },
        {
          "data": {
            "image/png": "[encoded data removed]",
            "text/plain": [
              "<Figure size 640x480 with 1 Axes>"
            ]
          },
          "metadata": {},
          "output_type": "display_data"
        }
      ],
      "source": [
        "# Function to show a batch of images\n",
        "def imshow(img):\n",
        "    img = img / 2 + 0.5  # unnormalize\n",
        "    npimg = img.numpy()\n",
        "    plt.imshow(np.transpose(npimg, (1, 2, 0)))\n",
        "    plt.axis('off')\n",
        "\n",
        "# Get a batch of training images\n",
        "dataiter = iter(trainloader)\n",
        "images, labels = next(dataiter)\n",
        "\n",
        "# Show images\n",
        "imshow(torchvision.utils.make_grid(images))\n",
        "# Print labels\n",
        "print(' '.join(f'{classes[labels[j]]}' for j in range(4)))"
      ]
    },
    {
      "cell_type": "markdown",
      "id": "Eu8EaUxPxX5L",
      "metadata": {
        "id": "Eu8EaUxPxX5L"
      },
      "source": [
        "The FashionDataset class is a custom implementation designed to facilitate loading the Fashion MNIST dataset. It initializes the dataset from structured data, prepares the images and labels, and defines methods to retrieve individual samples and the dataset's length. By integrating this class with a PyTorch DataLoader, we can easily iterate over the dataset for training or evaluation purposes."
      ]
    },
    {
      "cell_type": "code",
      "execution_count": null,
      "id": "Pq3RoYcOxW9G",
      "metadata": {
        "id": "Pq3RoYcOxW9G"
      },
      "outputs": [],
      "source": [
        "from torch.utils.data import Dataset\n",
        "import numpy as np\n",
        "\n",
        "class FashionDataset(Dataset):\n",
        "    \"\"\"User defined class to build a dataset using PyTorch class Dataset.\"\"\"\n",
        "\n",
        "    def __init__(self, dataset, transform=None):\n",
        "        \"\"\"Method to initialize variables.\"\"\"\n",
        "        self.data = dataset\n",
        "        self.transform = transform\n",
        "\n",
        "    def __getitem__(self, index):\n",
        "        image, label = self.data[index]  # Get image and label from the dataset\n",
        "\n",
        "        if self.transform is not None:\n",
        "            image = self.transform(image)\n",
        "\n",
        "        return image, label\n",
        "\n",
        "    def __len__(self):\n",
        "        return len(self.data)\n"
      ]
    },
    {
      "cell_type": "code",
      "execution_count": null,
      "id": "f4QSOpwYzbn7",
      "metadata": {
        "colab": {
          "base_uri": "https://localhost:8080/"
        },
        "id": "f4QSOpwYzbn7",
        "outputId": "45e91548-a1a8-459b-f412-e9a99e210c3e"
      },
      "outputs": [
        {
          "name": "stdout",
          "output_type": "stream",
          "text": [
            "Batch of images shape: torch.Size([4, 1, 28, 28])\n",
            "Batch of labels: tensor([1, 8, 6, 3])\n"
          ]
        }
      ],
      "source": [
        "# Import necessary libraries\n",
        "import torch\n",
        "import torchvision\n",
        "import torchvision.transforms as transforms\n",
        "\n",
        "# Define a transformation pipeline to convert images to PyTorch tensor format\n",
        "transform = transforms.Compose([transforms.ToTensor()])\n",
        "\n",
        "# Load the Fashion MNIST training dataset\n",
        "trainset = torchvision.datasets.FashionMNIST(root='./data', train=True, download=True, transform=transform)\n",
        "\n",
        "# Create a data loader for the training set\n",
        "trainloader = torch.utils.data.DataLoader(trainset, batch_size=4, shuffle=True, num_workers=2)\n",
        "\n",
        "# Load the Fashion MNIST test dataset\n",
        "testset = torchvision.datasets.FashionMNIST(root='./data', train=False, download=True, transform=transform)\n",
        "\n",
        "# Create a data loader for the test set\n",
        "testloader = torch.utils.data.DataLoader(testset, batch_size=4, shuffle=False, num_workers=2)\n",
        "\n",
        "# Define the class labels for the Fashion MNIST dataset\n",
        "classes = ('T-shirt/top', 'Trouser', 'Pullover', 'Dress', 'Coat',\n",
        "           'Sandal', 'Shirt', 'Sneaker', 'Bag', 'Ankle boot')\n",
        "\n",
        "# Example: Iterating through the training data loader\n",
        "for images, labels in trainloader:\n",
        "    # Here, you can process the images and labels as needed\n",
        "    print(\"Batch of images shape:\", images.shape)  # Shape should be (batch_size, 1, 28, 28)\n",
        "    print(\"Batch of labels:\", labels)\n",
        "    break  # Remove this to iterate through the entire dataset\n"
      ]
    },
    {
      "cell_type": "markdown",
      "id": "AJEqLAM9z3p5",
      "metadata": {
        "id": "AJEqLAM9z3p5"
      },
      "source": [
        "### We have 10 types of clothes in FashionMNIST dataset.\n",
        "\n",
        "\n",
        "> Making a method that return the name of class for the label number.\n",
        "ex. if the label is 5, we return Sandal.\n",
        "\n"
      ]
    },
    {
      "cell_type": "code",
      "execution_count": null,
      "id": "1VifJUXdz1Hh",
      "metadata": {
        "id": "1VifJUXdz1Hh"
      },
      "outputs": [],
      "source": [
        "def output_label(label):\n",
        "    output_mapping = {\n",
        "                 0: \"T-shirt/Top\",\n",
        "                 1: \"Trouser\",\n",
        "                 2: \"Pullover\",\n",
        "                 3: \"Dress\",\n",
        "                 4: \"Coat\",\n",
        "                 5: \"Sandal\",\n",
        "                 6: \"Shirt\",\n",
        "                 7: \"Sneaker\",\n",
        "                 8: \"Bag\",\n",
        "                 9: \"Ankle Boot\"\n",
        "                 }\n",
        "    input = (label.item() if type(label) == torch.Tensor else label)\n",
        "    return output_mapping[input]"
      ]
    },
    {
      "cell_type": "code",
      "execution_count": null,
      "id": "t7tkL0NF0w_I",
      "metadata": {
        "colab": {
          "base_uri": "https://localhost:8080/"
        },
        "id": "t7tkL0NF0w_I",
        "outputId": "ca4ad1fa-2729-482d-9d35-c734d6267669"
      },
      "outputs": [
        {
          "name": "stdout",
          "output_type": "stream",
          "text": [
            "Number of training samples: 60000\n"
          ]
        }
      ],
      "source": [
        "# Check the length of the training set\n",
        "trainset_length = len(trainset)\n",
        "print(\"Number of training samples:\", trainset_length)\n"
      ]
    },
    {
      "cell_type": "markdown",
      "id": "mYToCA1V2iFw",
      "metadata": {
        "id": "mYToCA1V2iFw"
      },
      "source": [
        "***Trying to visualize a single image from the batch ***"
      ]
    },
    {
      "cell_type": "code",
      "execution_count": null,
      "id": "SIK4NdHa2Ahu",
      "metadata": {
        "colab": {
          "base_uri": "https://localhost:8080/",
          "height": 424
        },
        "id": "SIK4NdHa2Ahu",
        "outputId": "a869d4b9-0a29-4268-d659-6199a305f458"
      },
      "outputs": [
        {
          "data": {
            "image/png": "[encoded data removed]",
            "text/plain": [
              "<Figure size 640x480 with 1 Axes>"
            ]
          },
          "metadata": {},
          "output_type": "display_data"
        },
        {
          "name": "stdout",
          "output_type": "stream",
          "text": [
            "tensor(5)\n"
          ]
        }
      ],
      "source": [
        "# Get the first batch of images and labels\n",
        "images, labels = next(iter(trainloader))\n",
        "\n",
        "# Select the first image in the batch\n",
        "image = images[0]  # Shape will be (1, 28, 28)\n",
        "\n",
        "# Display the image\n",
        "plt.imshow(image.squeeze(), cmap=\"gray\")  # Squeeze to remove the channel dimension\n",
        "plt.axis('off')  # Optionally hide the axes\n",
        "plt.show()  # Show the image\n",
        "\n",
        "# Print the corresponding label\n",
        "print(labels[0])  # Print the label for the first image\n"
      ]
    },
    {
      "cell_type": "markdown",
      "id": "e4czJa4Q3OWZ",
      "metadata": {
        "id": "e4czJa4Q3OWZ"
      },
      "source": [
        "sets up a data loader for the training dataset, retrieves the first batch of images and labels, and then prints the types and shapes of those tensors. It helps to confirm that our data loading process is working correctly and that we're getting the expected dimensions for our batches."
      ]
    },
    {
      "cell_type": "code",
      "execution_count": null,
      "id": "1U-WIQxJ20cx",
      "metadata": {
        "colab": {
          "base_uri": "https://localhost:8080/"
        },
        "id": "1U-WIQxJ20cx",
        "outputId": "e4bf43e8-e178-4b66-ab0a-27a5525d45ee"
      },
      "outputs": [
        {
          "name": "stdout",
          "output_type": "stream",
          "text": [
            "<class 'torch.Tensor'> <class 'torch.Tensor'>\n",
            "torch.Size([10, 1, 28, 28]) torch.Size([10])\n"
          ]
        }
      ],
      "source": [
        "import torchvision.transforms as transforms\n",
        "from torch.utils.data import DataLoader\n",
        "from torchvision.datasets import FashionMNIST\n",
        "\n",
        "# Define transformations (including normalization)\n",
        "transform = transforms.Compose([\n",
        "    transforms.ToTensor(),\n",
        "    transforms.Normalize((0.5,), (0.5,))  # Normalize to [-1, 1]\n",
        "])\n",
        "\n",
        "# Load the Fashion MNIST dataset\n",
        "train_set = FashionMNIST(root='./data', train=True, download=True, transform=transform)\n",
        "\n",
        "# Create a DataLoader with a batch size of your choice (e.g., 10)\n",
        "demo_loader = DataLoader(train_set, batch_size=10, shuffle=True)\n",
        "\n",
        "# Retrieve a batch of images and labels\n",
        "batch = next(iter(demo_loader))\n",
        "images, labels = batch\n",
        "\n",
        "# Print the types and shapes of the images and labels\n",
        "print(type(images), type(labels))\n",
        "print(images.shape, labels.shape)\n"
      ]
    },
    {
      "cell_type": "markdown",
      "id": "b9hzZ8a24y44",
      "metadata": {
        "id": "b9hzZ8a24y44"
      },
      "source": [
        "A visual representation of a batch of images in a grid format, making it easier to visualize what our model is working with. It also prints the corresponding labels for each image, helping us to confirm that the images are correctly labeled. This is particularly useful for debugging and understanding our dataset better."
      ]
    },
    {
      "cell_type": "code",
      "execution_count": null,
      "id": "rl7Yd_f54mYw",
      "metadata": {
        "colab": {
          "base_uri": "https://localhost:8080/",
          "height": 223
        },
        "id": "rl7Yd_f54mYw",
        "outputId": "027cb93e-8e33-4513-a75e-33ce080e7fb7"
      },
      "outputs": [
        {
          "name": "stderr",
          "output_type": "stream",
          "text": [
            "WARNING:matplotlib.image:Clipping input data to the valid range for imshow with RGB data ([0..1] for floats or [0..255] for integers).\n"
          ]
        },
        {
          "name": "stdout",
          "output_type": "stream",
          "text": [
            "labels:  Ankle Boot, T-shirt/Top, Ankle Boot, Ankle Boot, Shirt, Pullover, Shirt, T-shirt/Top, Sneaker, Ankle Boot, "
          ]
        },
        {
          "data": {
            "image/png": "[encoded data removed]",
            "text/plain": [
              "<Figure size 1500x2000 with 1 Axes>"
            ]
          },
          "metadata": {},
          "output_type": "display_data"
        }
      ],
      "source": [
        "import matplotlib.pyplot as plt\n",
        "import torchvision.utils as vutils\n",
        "\n",
        "# Assuming you already have your 'images' and 'labels' from the DataLoader\n",
        "\n",
        "# Create a grid of images\n",
        "grid = vutils.make_grid(images, nrow=10)\n",
        "\n",
        "plt.figure(figsize=(15, 20))\n",
        "plt.imshow(np.transpose(grid, (1, 2, 0)))\n",
        "\n",
        "# Print labels\n",
        "print(\"labels: \", end=\" \")\n",
        "for label in labels:\n",
        "    print(output_label(label), end=\", \")\n"
      ]
    },
    {
      "cell_type": "markdown",
      "id": "13f62614",
      "metadata": {
        "id": "13f62614"
      },
      "source": [
        "## Convolutional Neural Networks (CNNs)\n",
        "\n",
        "Convolutional Neural Networks (CNNs) have revolutionized the field of computer vision. They are specifically designed to recognize visual patterns directly from pixel images with minimal preprocessing. CNNs are hierarchical models where neurons in one layer connect to neurons in the next layer in a limited fashion, somewhat like the receptive field in human vision.\n",
        "\n",
        "![CNN Architecture](https://miro.medium.com/max/2824/1*uAeANQIOQPqWZnnuH-VEyw.jpeg)\n",
        "\n",
        "A typical CNN architecture consists of:\n",
        "1. **Convolutional Layers:** Apply convolution operation on the input layer to detect features.\n",
        "2. **Activation Layers:** Introduce non-linearity to the model (typically ReLU).\n",
        "3. **Pooling Layers:** Perform down-sampling operations to reduce dimensionality.\n",
        "4. **Fully Connected Layers:** After several convolutional and pooling layers, the high-level reasoning in the neural network happens via fully connected layers.\n",
        "\n",
        "Let's design a basic CNN for our dataset.\n"
      ]
    },
    {
      "cell_type": "code",
      "execution_count": null,
      "id": "910426cf",
      "metadata": {
        "id": "910426cf"
      },
      "outputs": [],
      "source": [
        "import torch.nn as nn\n",
        "import torch.nn.functional as F\n",
        "\n",
        "class BasicCNN(nn.Module):\n",
        "    def __init__(self):\n",
        "        super(BasicCNN, self).__init__()\n",
        "        # Input: [batch_size, 1, 28, 28]\n",
        "        self.conv1 = nn.Conv2d(1, 32, 3)  # Output: [batch_size, 32, 26, 26]\n",
        "\n",
        "        # Input: [batch_size, 32, 26, 26]\n",
        "        self.conv2 = nn.Conv2d(32, 64, 3) # Output: [batch_size, 64, 11, 11]\n",
        "\n",
        "        self.fc1 = nn.Linear(64 * 5 * 5, 128)  # Flattening: [batch_size, 64*5*5]\n",
        "        self.fc2 = nn.Linear(128, 10)\n",
        "\n",
        "    def forward(self, x):\n",
        "        # Input: [batch_size, 1, 28, 28]\n",
        "        x = F.relu(self.conv1(x))\n",
        "        # Shape: [batch_size, 32, 26, 26]\n",
        "        x = F.max_pool2d(x, 2)\n",
        "        # Shape: [batch_size, 32, 13, 13]\n",
        "\n",
        "        x = F.relu(self.conv2(x))\n",
        "        # Shape: [batch_size, 64, 11, 11]\n",
        "        x = F.max_pool2d(x, 2)\n",
        "        # Shape: [batch_size, 64, 5, 5]\n",
        "\n",
        "        x = x.view(-1, 64 * 5 * 5) # Flattening\n",
        "        x = F.relu(self.fc1(x))\n",
        "        x = self.fc2(x)\n",
        "        return F.log_softmax(x, dim=1)"
      ]
    },
    {
      "cell_type": "markdown",
      "id": "b2adfb78",
      "metadata": {
        "id": "b2adfb78"
      },
      "source": [
        "## Training and Evaluation\n",
        "\n",
        "### 1. Model Instantiation\n",
        "\n",
        "We first create an instance of our model and transfer it to the appropriate device (either CPU or GPU)."
      ]
    },
    {
      "cell_type": "code",
      "execution_count": null,
      "id": "6cc5e4f2",
      "metadata": {
        "id": "6cc5e4f2"
      },
      "outputs": [],
      "source": [
        "model = BasicCNN().to(device)\n"
      ]
    },
    {
      "cell_type": "markdown",
      "id": "ebe51ba3",
      "metadata": {
        "id": "ebe51ba3"
      },
      "source": [
        "### 2. Optimizer and Loss Function\n",
        "\n",
        "For training the neural network, we need an optimizer and a loss function. The optimizer updates the model parameters (weights and biases) to minimize the loss.\n",
        "\n",
        "- **Optimizer**: The Adam optimizer is commonly used and adapts the learning rate during training.\n",
        "- **Loss Function**: Since this is a classification task, we use the Cross Entropy Loss.\n"
      ]
    },
    {
      "cell_type": "code",
      "execution_count": null,
      "id": "d5a7be1d",
      "metadata": {
        "id": "d5a7be1d"
      },
      "outputs": [],
      "source": [
        "optimizer = torch.optim.Adam(model.parameters(), lr=0.001)\n",
        "criterion = nn.CrossEntropyLoss()\n"
      ]
    },
    {
      "cell_type": "markdown",
      "id": "8e34dd04",
      "metadata": {
        "id": "8e34dd04"
      },
      "source": [
        "## Understanding Optimizers and Loss Functions\n",
        "\n",
        "### Optimizers:\n",
        "\n",
        "Optimizers are algorithms used to adjust the model's weights based on the gradient of the loss function. The goal is to minimize the loss. There are several optimizers available:\n",
        "\n",
        "1. **SGD (Stochastic Gradient Descent)**: This is the basic form of the gradient descent algorithm. It updates the model's weights using the gradient of the loss function with respect to each weight.\n",
        "    - Use: `torch.optim.SGD(model.parameters(), lr=learning_rate)`\n",
        "\n",
        "2. **Momentum**: A variant of SGD that takes into account the previous steps, helping accelerate convergence and avoid local minima.\n",
        "    - Use: `torch.optim.SGD(model.parameters(), lr=learning_rate, momentum=0.9)`\n",
        "\n",
        "3. **Adam**: Combines the advantages of two other extensions of SGD, namely AdaGrad and RMSProp. It adjusts the learning rate of each weight based on the historical gradient information.\n",
        "    - Use: `torch.optim.Adam(model.parameters(), lr=learning_rate)`\n",
        "\n",
        "4. **RMSProp**: Maintains a moving average of the squared gradient and divides the gradient by the root of this average.\n",
        "    - Use: `torch.optim.RMSprop(model.parameters(), lr=learning_rate)`\n",
        "\n",
        "### Loss Functions for Classification:\n",
        "\n",
        "1. **Cross-Entropy Loss**: Used for multi-class classification. It quantifies the difference between the predicted probability distribution and the actual distribution.\n",
        "    - Use: `nn.CrossEntropyLoss()`\n",
        "\n",
        "2. **Binary Cross-Entropy Loss**: Specifically for binary classification tasks.\n",
        "    - Use: `nn.BCELoss()`\n",
        "\n",
        "3. **Hinge Loss (or Margin Loss)**: Used for \"maximum-margin\" classification, mostly for SVMs.\n",
        "    - Use: `nn.HingeEmbeddingLoss()`\n",
        "\n",
        "### Identifying the Task:\n",
        "\n",
        "- **Classification**: In classification, the goal is to predict a class label for an input data point. If the dataset provides categorical labels (e.g., 'cat', 'dog', 'shirt', 'sandal'), it's a classification task.\n",
        "\n",
        "- **Segmentation**: The goal in segmentation is to classify each pixel in an image. If the dataset provides images with colored regions indicating different objects or features, it's a segmentation task.\n",
        "\n",
        "- **Regression**: Regression problems involve predicting a continuous value. If the dataset provides numerical values (e.g., house prices, stock prices) as labels, it's a regression task.\n",
        "\n",
        "To discern between tasks, examine the dataset's labels and the problem's requirements. For example, if you're trying to predict an item's category from an image, it's classification. If predicting numerical values from features, it's regression.\n"
      ]
    },
    {
      "cell_type": "markdown",
      "id": "a7001f49",
      "metadata": {
        "id": "a7001f49"
      },
      "source": [
        "## 3. Training Loop (Explained)\n",
        "\n",
        "Training a neural network involves iteratively updating its weights to minimize the loss function. This process is typically achieved using gradient descent optimization algorithms. Here's an in-depth explanation of the training loop:\n",
        "\n",
        "1. **Epochs**: An epoch represents one complete forward and backward pass of all the training examples. The number of epochs (`num_epochs`) is the number of times the learning algorithm will work through the entire training dataset. Usually a custom hyperparameter.\n",
        "\n",
        "2. **Model Training Mode**: Neural networks can operate in different modes - training and evaluation. Some layers, like dropout, behave differently in these modes. Setting the model to training mode ensures that layers like dropout function correctly.\n",
        "\n",
        "3. **Batch Processing**: Instead of updating weights after every training example (stochastic gradient descent) or after the entire dataset (batch gradient descent), we often update weights after a set of training examples known as a batch.\n",
        "\n",
        "4. **Zeroing Gradients**: In PyTorch, gradients accumulate by default. Before calculating the new gradients in the current batch, we need to set the previous gradients to zero.\n",
        "\n",
        "5. **Forward Pass**: The input data (images) are passed through the network, layer by layer, until we get the output. This process is called the forward pass.\n",
        "\n",
        "6. **Calculate Loss**: Once we have the network's predictions (outputs), we compare them to the true labels using a loss function. This gives a measure of how well the network's predictions match the actual labels.\n",
        "\n",
        "7. **Backward Pass**: To update the weights, we need to know the gradient of the loss function with respect to each weight. The backward pass computes these gradients.\n",
        "\n",
        "8. **Update Weights**: The optimizer updates the weights based on the gradients computed in the backward pass.\n",
        "\n",
        "This loop (forward pass, loss computation, backward pass, weight update) is repeated for every batch in the dataset, and the whole process is repeated for the specified number of epochs.\n",
        "\n"
      ]
    },
    {
      "cell_type": "code",
      "execution_count": null,
      "id": "HBi0sbwiVx6q",
      "metadata": {
        "colab": {
          "background_save": true,
          "base_uri": "https://localhost:8080/"
        },
        "id": "HBi0sbwiVx6q",
        "outputId": "e4fee128-01a4-4b10-c07a-51db3958c638"
      },
      "outputs": [
        {
          "name": "stdout",
          "output_type": "stream",
          "text": [
            "Epoch [1/10], Loss: 0.1456, Training Accuracy: 94.56%, Validation Accuracy: 90.30%\n",
            "Epoch [2/10], Loss: 0.1108, Training Accuracy: 95.76%, Validation Accuracy: 90.93%\n",
            "Epoch [3/10], Loss: 0.0847, Training Accuracy: 96.85%, Validation Accuracy: 90.82%\n",
            "Epoch [4/10], Loss: 0.0638, Training Accuracy: 97.62%, Validation Accuracy: 91.16%\n",
            "Epoch [5/10], Loss: 0.0486, Training Accuracy: 98.22%, Validation Accuracy: 91.25%\n",
            "Epoch [6/10], Loss: 0.0386, Training Accuracy: 98.67%, Validation Accuracy: 91.57%\n",
            "Epoch [7/10], Loss: 0.0312, Training Accuracy: 98.93%, Validation Accuracy: 91.56%\n",
            "Epoch [8/10], Loss: 0.0264, Training Accuracy: 99.13%, Validation Accuracy: 91.64%\n",
            "Epoch [9/10], Loss: 0.0230, Training Accuracy: 99.28%, Validation Accuracy: 91.52%\n",
            "Epoch [10/10], Loss: 0.0207, Training Accuracy: 99.33%, Validation Accuracy: 91.54%\n"
          ]
        }
      ],
      "source": [
        "import torch.optim as optim\n",
        "from torch.optim.lr_scheduler import StepLR\n",
        "\n",
        "# Number of complete passes through the dataset\n",
        "num_epochs = 10  # Increased epochs for better training\n",
        "\n",
        "# Learning rate scheduler\n",
        "scheduler = StepLR(optimizer, step_size=1, gamma=0.7)  # Adjust the learning rate every epoch\n",
        "\n",
        "# Lists for tracking loss and accuracy\n",
        "train_loss_list = []\n",
        "train_accuracy_list = []\n",
        "val_accuracy_list = []\n",
        "\n",
        "# Start the training loop\n",
        "for epoch in range(num_epochs):\n",
        "    model.train()  # Set the model to training mode\n",
        "    total_loss = 0\n",
        "    correct = 0\n",
        "    total = 0\n",
        "\n",
        "    # Iterate over each batch of the training data\n",
        "    for images, labels in trainloader:\n",
        "        # Move the images and labels to the computational device (CPU or GPU)\n",
        "        images, labels = images.to(device), labels.to(device)\n",
        "\n",
        "        # Clear the gradients from the previous iteration\n",
        "        optimizer.zero_grad()\n",
        "\n",
        "        # Forward pass: Pass the images through the model to get the predicted outputs\n",
        "        outputs = model(images)\n",
        "\n",
        "        # Compute the loss between the predicted outputs and the true labels\n",
        "        loss = criterion(outputs, labels)\n",
        "\n",
        "        # Backward pass: Compute the gradient of the loss w.r.t. model parameters\n",
        "        loss.backward()\n",
        "\n",
        "        # Update the model parameters\n",
        "        optimizer.step()\n",
        "\n",
        "        # Accumulate loss and accuracy\n",
        "        total_loss += loss.item()\n",
        "        _, predicted = torch.max(outputs.data, 1)\n",
        "        total += labels.size(0)\n",
        "        correct += (predicted == labels).sum().item()\n",
        "\n",
        "    # Average loss and accuracy for the epoch\n",
        "    average_loss = total_loss / len(trainloader)\n",
        "    train_accuracy = (correct / total) * 100\n",
        "\n",
        "    # Store the training loss and accuracy\n",
        "    train_loss_list.append(average_loss)\n",
        "    train_accuracy_list.append(train_accuracy)\n",
        "\n",
        "    # Validation phase\n",
        "    model.eval()  # Set the model to evaluation mode\n",
        "    val_correct = 0\n",
        "    val_total = 0\n",
        "\n",
        "    with torch.no_grad():  # Disable gradient calculation for validation\n",
        "        for images, labels in testloader:\n",
        "            images, labels = images.to(device), labels.to(device)\n",
        "            outputs = model(images)\n",
        "            _, predicted = torch.max(outputs.data, 1)\n",
        "            val_total += labels.size(0)\n",
        "            val_correct += (predicted == labels).sum().item()\n",
        "\n",
        "    val_accuracy = (val_correct / val_total) * 100\n",
        "    val_accuracy_list.append(val_accuracy)\n",
        "\n",
        "    print(f\"Epoch [{epoch+1}/{num_epochs}], Loss: {average_loss:.4f}, \"\n",
        "          f\"Training Accuracy: {train_accuracy:.2f}%, Validation Accuracy: {val_accuracy:.2f}%\")\n",
        "\n",
        "    # Step the scheduler\n",
        "    scheduler.step()\n"
      ]
    },
    {
      "cell_type": "markdown",
      "id": "59015629",
      "metadata": {
        "id": "59015629"
      },
      "source": [
        "## Evaluation\n",
        "\n",
        "Once our model is trained, it's crucial to evaluate its performance on unseen data. We'll:\n",
        "\n",
        "1. Generate predictions for the test set.\n",
        "2. Compute the overall accuracy.\n",
        "3. Examine the model's performance in detail using a confusion matrix and classification report.\n",
        "\n",
        "These tools will provide insights into specific areas where the model excels or might need improvement.\n",
        "\n",
        "**Note:** We don't want to compute gradients, so we use `torch.no_grad()`."
      ]
    },
    {
      "cell_type": "code",
      "execution_count": 30,
      "id": "b08d003a",
      "metadata": {
        "id": "b08d003a",
        "outputId": "ecd733c1-0579-4b6d-d0e0-9baab824fb16",
        "colab": {
          "base_uri": "https://localhost:8080/",
          "height": 1000
        }
      },
      "outputs": [
        {
          "output_type": "stream",
          "name": "stdout",
          "text": [
            "              precision    recall  f1-score   support\n",
            "\n",
            " T-shirt/top       0.85      0.86      0.86      1000\n",
            "     Trouser       1.00      0.98      0.99      1000\n",
            "    Pullover       0.84      0.88      0.86      1000\n",
            "       Dress       0.92      0.92      0.92      1000\n",
            "        Coat       0.88      0.86      0.87      1000\n",
            "      Sandal       0.98      0.98      0.98      1000\n",
            "       Shirt       0.76      0.75      0.76      1000\n",
            "     Sneaker       0.95      0.98      0.97      1000\n",
            "         Bag       0.98      0.98      0.98      1000\n",
            "  Ankle boot       0.98      0.96      0.97      1000\n",
            "\n",
            "    accuracy                           0.92     10000\n",
            "   macro avg       0.92      0.92      0.92     10000\n",
            "weighted avg       0.92      0.92      0.92     10000\n",
            "\n"
          ]
        },
        {
          "output_type": "display_data",
          "data": {
            "text/plain": [
              "<Figure size 1000x800 with 2 Axes>"
            ],
            "image/png": "[encoded data removed]"
          },
          "metadata": {}
        }
      ],
      "source": [
        "# Import necessary libraries:\n",
        "# numpy for numerical operations\n",
        "# sklearn.metrics for evaluation metrics like classification report and confusion matrix\n",
        "# seaborn and matplotlib for data visualization\n",
        "import numpy as np\n",
        "from sklearn.metrics import classification_report, confusion_matrix\n",
        "import seaborn as sns\n",
        "import matplotlib.pyplot as plt\n",
        "\n",
        "# Set the model to evaluation mode. This is important as certain layers like dropout behave differently during training and evaluation.\n",
        "model.eval()\n",
        "\n",
        "# Lists to store all predictions and true labels\n",
        "all_preds = []\n",
        "all_labels = []\n",
        "\n",
        "# We don't want to compute gradients during evaluation, hence wrap the code inside torch.no_grad()\n",
        "with torch.no_grad():\n",
        "    # Iterate over all batches in the test loader\n",
        "    for images, labels in testloader:\n",
        "        # Transfer images and labels to the computational device (either CPU or GPU)\n",
        "        images, labels = images.to(device), labels.to(device)\n",
        "\n",
        "        # Pass the images through the model to get predictions\n",
        "        outputs = model(images)\n",
        "\n",
        "        # Get the class with the maximum probability as the predicted class\n",
        "        _, predicted = torch.max(outputs, 1)\n",
        "\n",
        "        # Extend the all_preds list with predictions from this batch\n",
        "        all_preds.extend(predicted.cpu().numpy())\n",
        "\n",
        "        # Extend the all_labels list with true labels from this batch\n",
        "        all_labels.extend(labels.cpu().numpy())\n",
        "\n",
        "# Print a classification report which provides an overview of the model's performance for each class\n",
        "print(classification_report(all_labels, all_preds, target_names=classes))\n",
        "\n",
        "# Compute the confusion matrix using true labels and predictions\n",
        "cm = confusion_matrix(all_labels, all_preds)\n",
        "\n",
        "# Visualize the confusion matrix using seaborn's heatmap\n",
        "plt.figure(figsize=(10,8))\n",
        "sns.heatmap(cm, annot=True, fmt=\"d\", cmap=plt.cm.Blues, xticklabels=classes, yticklabels=classes)\n",
        "plt.xlabel('Predicted Label')  # x-axis label\n",
        "plt.ylabel('True Label')       # y-axis label\n",
        "plt.title('Confusion Matrix')  # Title of the plot\n",
        "plt.show()                     # Display the plot\n"
      ]
    },
    {
      "cell_type": "markdown",
      "id": "3b7d3b39",
      "metadata": {
        "id": "3b7d3b39"
      },
      "source": [
        "## Advanced Topics: Regularization with Dropout\n",
        "\n",
        "Dropout is a regularization technique for reducing overfitting in neural networks. During training, randomly selected neurons are ignored, which helps in preventing the model from becoming too reliant on any specific neuron. This dropout process introduces a form of noise into the training process, which can lead to better generalization.\n",
        "\n",
        "![Dropout](https://miro.medium.com/max/1200/1*iWQzxhVlvadk6VAJjsgXgg.png)\n",
        "\n",
        "Now, let's modify our CNN model to incorporate dropout and observe its impact.\n"
      ]
    },
    {
      "cell_type": "code",
      "execution_count": 31,
      "id": "a2074ada",
      "metadata": {
        "id": "a2074ada",
        "outputId": "65d89ec4-d936-410d-da1e-4936843617ef",
        "colab": {
          "base_uri": "https://localhost:8080/"
        }
      },
      "outputs": [
        {
          "output_type": "execute_result",
          "data": {
            "text/plain": [
              "NetDropout(\n",
              "  (conv1): Conv2d(1, 32, kernel_size=(3, 3), stride=(1, 1), padding=(1, 1))\n",
              "  (conv2): Conv2d(32, 64, kernel_size=(3, 3), stride=(1, 1), padding=(1, 1))\n",
              "  (pool): MaxPool2d(kernel_size=2, stride=2, padding=0, dilation=1, ceil_mode=False)\n",
              "  (dropout): Dropout(p=0.25, inplace=False)\n",
              "  (fc1): Linear(in_features=3136, out_features=512, bias=True)\n",
              "  (fc2): Linear(in_features=512, out_features=10, bias=True)\n",
              ")"
            ]
          },
          "metadata": {},
          "execution_count": 31
        }
      ],
      "source": [
        "import torch.nn as nn\n",
        "import torch.nn.functional as F\n",
        "\n",
        "class NetDropout(nn.Module):\n",
        "    def __init__(self):\n",
        "        super(NetDropout, self).__init__()\n",
        "\n",
        "        # Convolutional layers\n",
        "        self.conv1 = nn.Conv2d(in_channels=1, out_channels=32, kernel_size=3, padding=1)  # Output shape: [batch_size, 32, 28, 28]\n",
        "        self.conv2 = nn.Conv2d(in_channels=32, out_channels=64, kernel_size=3, padding=1) # Output shape: [batch_size, 64, 14, 14]\n",
        "\n",
        "        # Max pooling layer\n",
        "        self.pool = nn.MaxPool2d(kernel_size=2, stride=2, padding=0) # Reduces spatial dimensions by half\n",
        "\n",
        "        # Dropout layer\n",
        "        self.dropout = nn.Dropout(0.25)  # Helps prevent overfitting\n",
        "\n",
        "        # Fully connected layers\n",
        "        self.fc1 = nn.Linear(64 * 7 * 7, 512)  # Flattened input to 512 output features\n",
        "        self.fc2 = nn.Linear(512, 10)          # 512 input features to 10 output classes\n",
        "\n",
        "    def forward(self, x):\n",
        "        x = self.pool(F.relu(self.conv1(x))) # Shape: [batch_size, 32, 14, 14]\n",
        "        x = self.pool(F.relu(self.conv2(x))) # Shape: [batch_size, 64, 7, 7]\n",
        "\n",
        "        x = x.view(-1, 64 * 7 * 7)  # Flatten the tensor\n",
        "        x = self.dropout(x)         # Apply dropout\n",
        "\n",
        "        x = F.relu(self.fc1(x))     # First fully connected layer with ReLU activation\n",
        "        x = self.fc2(x)             # Second fully connected layer\n",
        "\n",
        "        # Here, we're not applying log_softmax. If you use nn.CrossEntropyLoss as the loss function later,\n",
        "        # it will implicitly apply softmax for you.\n",
        "        # If you plan on using nn.NLLLoss, uncomment the line below:\n",
        "        # x = F.log_softmax(x, dim=1)\n",
        "\n",
        "        return x\n",
        "\n",
        "# Instantiate the model with dropout\n",
        "model_dropout = NetDropout().to(device)\n",
        "model_dropout\n"
      ]
    },
    {
      "cell_type": "markdown",
      "id": "16a0823c",
      "metadata": {
        "id": "16a0823c"
      },
      "source": [
        "## Understanding the Role of `F.log_softmax`\n",
        "\n",
        "The application of `F.log_softmax` at the end of the model's forward function is pivotal in certain contexts, and it's crucial to comprehend why and when we use it:\n",
        "\n",
        "### Softmax\n",
        "The **softmax** function is frequently employed in the terminal layer of a classification network. Its primary role is to convert the raw scores, also known as logits, that the network outputs into a probability distribution across the various classes. The results of this conversion are values that fall within the (0,1) range, and importantly, their sum amounts to 1.\n",
        "\n",
        "### Log Softmax\n",
        "On the other hand, **Log Softmax** is essentially the application of a logarithm post the softmax conversion. This transformation yields the log probabilities. A common pairing in PyTorch is between `F.log_softmax` and the `nn.NLLLoss` (Negative Log Likelihood Loss), as the latter anticipates log probabilities as its inputs.\n",
        "\n",
        "### Why opt for `F.log_softmax` over a two-step `F.softmax` then logarithm?\n",
        "A principal reason is numerical stability. When combined into the singular function `log_softmax`, the operations are more stable than when applied sequentially.\n",
        "\n",
        "### What if we omit `F.log_softmax`?\n",
        "If the model doesn't incorporate `log_softmax` (or even `softmax`), the outputs it produces are simply raw scores or logits. When the loss function in use is `nn.CrossEntropyLoss`, the explicit application of either `softmax` or `log_softmax` becomes unnecessary, as this loss function inherently handles that. Conversely, if `nn.NLLLoss` is the chosen loss function, the application of `log_softmax` becomes essential. Bypassing any form of softmax means the predictions the model renders won't be interpretable as valid probabilities.\n"
      ]
    },
    {
      "cell_type": "code",
      "execution_count": 32,
      "id": "524cfaeb",
      "metadata": {
        "id": "524cfaeb"
      },
      "outputs": [],
      "source": [
        "optimizer = torch.optim.Adam(model_dropout.parameters(), lr=0.001)\n",
        "criterion = nn.CrossEntropyLoss()\n"
      ]
    },
    {
      "cell_type": "markdown",
      "id": "fd1faac8",
      "metadata": {
        "id": "fd1faac8"
      },
      "source": [
        "## Training"
      ]
    },
    {
      "cell_type": "markdown",
      "id": "aee35440",
      "metadata": {
        "id": "aee35440"
      },
      "source": [
        "## Logging and Observing the Loss During Training\n",
        "\n",
        "During the training of neural networks, it is crucial to monitor various metrics to understand how well the model is learning. One of the most fundamental metrics to track is the **training loss**. The loss provides insights into the discrepancies between the model's predictions and the actual labels. A lower loss typically indicates that the model's predictions are closer to the true values.\n",
        "\n",
        "### Importance of Logging the Loss:\n",
        "\n",
        "1. **Convergence Monitoring**: The loss should generally decrease as training progresses. If the loss stops decreasing (or increases), it could be an indication that the model has started to overfit, or that there might be other issues like a too high learning rate causing divergence.\n",
        "\n",
        "2. **Hyperparameter Tuning**: Observing the loss can guide adjustments to hyperparameters. For instance, if the loss decreases very slowly, increasing the learning rate or changing the optimizer might help. On the other hand, if the loss shows high volatility, reducing the learning rate might be beneficial.\n",
        "\n",
        "3. **Model Comparison**: When experimenting with various architectures or strategies, the loss provides a means to compare the effectiveness of different models.\n",
        "\n",
        "4. **Early Stopping**: By tracking the loss on a validation dataset, we can stop training when the validation loss starts to increase, preventing overfitting.\n",
        "\n",
        "### Best Practices:\n",
        "\n",
        "- **Visualization**: While printing the loss values is helpful, visualizing them using graphs can be even more insightful. Tools like TensorBoard or libraries like Matplotlib can be used to plot the loss over epochs, providing a clearer picture of the training dynamics.\n",
        "\n",
        "- **Frequency**: Depending on the length of training, you might want to log the loss every epoch, every N batches, or even after every batch. Choose a frequency that provides a good balance between insight and information overload.\n",
        "\n",
        "- **Additional Metrics**: Besides the loss, it's often beneficial to track other metrics like accuracy, precision, recall, etc., especially on a validation dataset. These metrics provide a more comprehensive view of model performance.\n",
        "\n",
        "In conclusion, consistently monitoring and logging the training loss is a foundational practice in deep learning. It serves as a first line of diagnostics for the training process, enabling timely interventions and guiding improvements.\n"
      ]
    },
    {
      "cell_type": "code",
      "execution_count": 34,
      "id": "f1b2f737",
      "metadata": {
        "id": "f1b2f737",
        "outputId": "12e72259-7a3f-4a12-d087-5addc70a0eb5",
        "colab": {
          "base_uri": "https://localhost:8080/"
        }
      },
      "outputs": [
        {
          "output_type": "stream",
          "name": "stdout",
          "text": [
            "Epoch [1/5], Loss: 0.0195, Training Accuracy: 99.41%, Validation Accuracy: 91.54%\n",
            "Epoch [2/5], Loss: 0.0195, Training Accuracy: 99.41%, Validation Accuracy: 91.54%\n",
            "Epoch [3/5], Loss: 0.0195, Training Accuracy: 99.41%, Validation Accuracy: 91.54%\n",
            "Epoch [4/5], Loss: 0.0195, Training Accuracy: 99.41%, Validation Accuracy: 91.54%\n",
            "Epoch [5/5], Loss: 0.0195, Training Accuracy: 99.41%, Validation Accuracy: 91.54%\n"
          ]
        }
      ],
      "source": [
        "import torch.optim as optim\n",
        "from torch.optim.lr_scheduler import StepLR\n",
        "\n",
        "# Number of complete passes through the dataset\n",
        "num_epochs = 5\n",
        "\n",
        "# Learning rate scheduler\n",
        "scheduler = StepLR(optimizer, step_size=1, gamma=0.7)  # Adjust the learning rate every epoch\n",
        "\n",
        "# Lists for tracking loss and accuracy\n",
        "train_loss_list = []\n",
        "train_accuracy_list = []\n",
        "val_accuracy_list = []\n",
        "\n",
        "# Start the training loop\n",
        "for epoch in range(num_epochs):\n",
        "    model.train()  # Set the model to training mode\n",
        "    total_loss = 0\n",
        "    correct = 0\n",
        "    total = 0\n",
        "\n",
        "    # Iterate over each batch of the training data\n",
        "    for images, labels in trainloader:\n",
        "        # Move the images and labels to the computational device (CPU or GPU)\n",
        "        images, labels = images.to(device), labels.to(device)\n",
        "\n",
        "        # Clear the gradients from the previous iteration\n",
        "        optimizer.zero_grad()\n",
        "\n",
        "        # Forward pass: Pass the images through the model to get the predicted outputs\n",
        "        outputs = model(images)\n",
        "\n",
        "        # Compute the loss between the predicted outputs and the true labels\n",
        "        loss = criterion(outputs, labels)\n",
        "\n",
        "        # Backward pass: Compute the gradient of the loss w.r.t. model parameters\n",
        "        loss.backward()\n",
        "\n",
        "        # Update the model parameters\n",
        "        optimizer.step()\n",
        "\n",
        "        # Accumulate loss and accuracy\n",
        "        total_loss += loss.item()\n",
        "        _, predicted = torch.max(outputs.data, 1)\n",
        "        total += labels.size(0)\n",
        "        correct += (predicted == labels).sum().item()\n",
        "\n",
        "    # Average loss and accuracy for the epoch\n",
        "    average_loss = total_loss / len(trainloader)\n",
        "    train_accuracy = (correct / total) * 100\n",
        "\n",
        "    # Store the training loss and accuracy\n",
        "    train_loss_list.append(average_loss)\n",
        "    train_accuracy_list.append(train_accuracy)\n",
        "\n",
        "    # Validation phase\n",
        "    model.eval()  # Set the model to evaluation mode\n",
        "    val_correct = 0\n",
        "    val_total = 0\n",
        "\n",
        "    with torch.no_grad():  # Disable gradient calculation for validation\n",
        "        for images, labels in testloader:\n",
        "            images, labels = images.to(device), labels.to(device)\n",
        "            outputs = model(images)\n",
        "            _, predicted = torch.max(outputs.data, 1)\n",
        "            val_total += labels.size(0)\n",
        "            val_correct += (predicted == labels).sum().item()\n",
        "\n",
        "    val_accuracy = (val_correct / val_total) * 100\n",
        "    val_accuracy_list.append(val_accuracy)\n",
        "\n",
        "    print(f\"Epoch [{epoch+1}/{num_epochs}], Loss: {average_loss:.4f}, \"\n",
        "          f\"Training Accuracy: {train_accuracy:.2f}%, Validation Accuracy: {val_accuracy:.2f}%\")\n",
        "\n",
        "    # Step the scheduler\n",
        "    scheduler.step()\n"
      ]
    },
    {
      "cell_type": "markdown",
      "source": [
        "**Let's see epochs ve accuracy and Loss**"
      ],
      "metadata": {
        "id": "QZhxIpicwqrJ"
      },
      "id": "QZhxIpicwqrJ"
    },
    {
      "cell_type": "code",
      "source": [
        "import matplotlib.pyplot as plt\n",
        "\n",
        "# Assuming you have already defined train_loss_list during training\n",
        "plt.plot(range(1, num_epochs + 1), train_loss_list, marker='o')  # Plotting epoch numbers\n",
        "plt.xlabel(\"Epochs\")\n",
        "plt.ylabel(\"Loss\")\n",
        "plt.title(\"Epochs vs Loss\")\n",
        "plt.grid(True)\n",
        "plt.show()\n"
      ],
      "metadata": {
        "colab": {
          "base_uri": "https://localhost:8080/",
          "height": 472
        },
        "id": "_b9miRqRvAdo",
        "outputId": "8607f45a-455b-48da-edc5-9852eb8d04eb"
      },
      "id": "_b9miRqRvAdo",
      "execution_count": 36,
      "outputs": [
        {
          "output_type": "display_data",
          "data": {
            "text/plain": [
              "<Figure size 640x480 with 1 Axes>"
            ],
            "image/png": "[encoded data removed]"
          },
          "metadata": {}
        }
      ]
    },
    {
      "cell_type": "code",
      "source": [
        "import matplotlib.pyplot as plt\n",
        "\n",
        "# Plotting training accuracy\n",
        "plt.plot(range(1, num_epochs + 1), train_accuracy_list, marker='o', label='Training Accuracy')\n",
        "plt.plot(range(1, num_epochs + 1), val_accuracy_list, marker='o', label='Validation Accuracy')\n",
        "\n",
        "plt.xlabel(\"Epochs\")\n",
        "plt.ylabel(\"Accuracy (%)\")\n",
        "plt.title(\"Epochs vs Accuracy\")\n",
        "plt.legend()  # Add legend to differentiate between training and validation accuracy\n",
        "plt.grid(True)  # Optional: add grid for better readability\n",
        "plt.show()\n"
      ],
      "metadata": {
        "colab": {
          "base_uri": "https://localhost:8080/",
          "height": 472
        },
        "id": "PEH5yk0cvt9Y",
        "outputId": "8dea59fd-28b2-4659-82e2-dfa75932acec"
      },
      "id": "PEH5yk0cvt9Y",
      "execution_count": 37,
      "outputs": [
        {
          "output_type": "display_data",
          "data": {
            "text/plain": [
              "<Figure size 640x480 with 1 Axes>"
            ],
            "image/png": "[encoded data removed]"
          },
          "metadata": {}
        }
      ]
    },
    {
      "cell_type": "markdown",
      "id": "4dd167f6",
      "metadata": {
        "id": "4dd167f6"
      },
      "source": [
        "## Evaluation"
      ]
    },
    {
      "cell_type": "markdown",
      "id": "5f24c92c",
      "metadata": {
        "id": "5f24c92c"
      },
      "source": [
        "## Reusing the Evaluation Code and The Importance of Testing on a Validation Set\n",
        "\n",
        "In the subsequent steps, I'll be reusing the same evaluation code we discussed earlier. You might wonder, \"Why not change it?\" or \"Why is this step even necessary?\". Let's delve into the reasoning behind this.\n",
        "\n",
        "### The Essence of Evaluation:\n",
        "\n",
        "1. **Generalization**: While our model might perform exceptionally well on the training data, it's crucial to understand how it behaves on unseen data. Evaluation on a test or validation set offers insights into the model's ability to generalize to new, unseen examples, which is, after all, the primary goal of building machine learning models.\n",
        "\n",
        "2. **Overfitting Detection**: If a model performs exceptionally well on training data but poorly on the validation set, it might be overfitting. Overfitting occurs when a model learns the training data too closely, even its noise and outliers, making it less effective on new data.\n",
        "\n",
        "3. **Model Comparison**: Evaluation metrics on the validation set provide an objective way to compare different models or strategies, helping in selecting the best one for the problem at hand.\n",
        "\n",
        "4. **Hyperparameter Tuning**: The performance on the validation set can guide adjustments to model hyperparameters. It provides feedback on the effectiveness of any changes, ensuring they lead to genuine improvements rather than merely fitting the training data better.\n",
        "\n",
        "### Why Reuse?\n",
        "\n",
        "- **Consistency**: Using the same evaluation code ensures consistency in results, making comparisons valid and meaningful.\n",
        "\n",
        "- **Efficiency**: There's no need to \"reinvent the wheel\" if the current evaluation code already effectively assesses the model's performance on the validation set.\n",
        "\n",
        "- **Accuracy**: A tried-and-tested evaluation code that's known to work correctly reduces the chance of introducing bugs or errors in the evaluation process.\n",
        "\n",
        "In conclusion, regularly evaluating on a validation or test set is an indispensable practice in machine learning. It keeps us grounded by showing how the model is likely to perform in real-world scenarios, beyond the confines of the training data.\n",
        "\n",
        "**Note:** We are evaluating the dropout model so we use `model_dropout`."
      ]
    },
    {
      "cell_type": "code",
      "execution_count": 38,
      "id": "0ff96655",
      "metadata": {
        "id": "0ff96655",
        "outputId": "69d11b57-5132-4d9d-d567-c65bc5774c33",
        "colab": {
          "base_uri": "https://localhost:8080/",
          "height": 1000
        }
      },
      "outputs": [
        {
          "output_type": "stream",
          "name": "stdout",
          "text": [
            "              precision    recall  f1-score   support\n",
            "\n",
            " T-shirt/top       0.86      0.79      0.82      1000\n",
            "     Trouser       0.99      0.98      0.98      1000\n",
            "    Pullover       0.88      0.77      0.82      1000\n",
            "       Dress       0.89      0.92      0.91      1000\n",
            "        Coat       0.77      0.88      0.82      1000\n",
            "      Sandal       0.97      0.99      0.98      1000\n",
            "       Shirt       0.69      0.72      0.70      1000\n",
            "     Sneaker       0.96      0.94      0.95      1000\n",
            "         Bag       0.97      0.98      0.98      1000\n",
            "  Ankle boot       0.97      0.97      0.97      1000\n",
            "\n",
            "    accuracy                           0.89     10000\n",
            "   macro avg       0.89      0.89      0.89     10000\n",
            "weighted avg       0.89      0.89      0.89     10000\n",
            "\n"
          ]
        },
        {
          "output_type": "display_data",
          "data": {
            "text/plain": [
              "<Figure size 1000x800 with 2 Axes>"
            ],
            "image/png": "[encoded data removed]"
          },
          "metadata": {}
        }
      ],
      "source": [
        "# Import necessary libraries:\n",
        "# numpy for numerical operations\n",
        "# sklearn.metrics for evaluation metrics like classification report and confusion matrix\n",
        "# seaborn and matplotlib for data visualization\n",
        "import numpy as np\n",
        "from sklearn.metrics import classification_report, confusion_matrix\n",
        "import seaborn as sns\n",
        "import matplotlib.pyplot as plt\n",
        "\n",
        "# Set the model to evaluation mode. This is important as certain layers like dropout behave differently during training and evaluation.\n",
        "model_dropout.eval()\n",
        "\n",
        "# Lists to store all predictions and true labels\n",
        "all_preds = []\n",
        "all_labels = []\n",
        "\n",
        "# We don't want to compute gradients during evaluation, hence wrap the code inside torch.no_grad()\n",
        "with torch.no_grad():\n",
        "    # Iterate over all batches in the test loader\n",
        "    for images, labels in testloader:\n",
        "        # Transfer images and labels to the computational device (either CPU or GPU)\n",
        "        images, labels = images.to(device), labels.to(device)\n",
        "\n",
        "        # Pass the images through the model to get predictions\n",
        "        outputs = model_dropout(images)\n",
        "\n",
        "        # Get the class with the maximum probability as the predicted class\n",
        "        _, predicted = torch.max(outputs, 1)\n",
        "\n",
        "        # Extend the all_preds list with predictions from this batch\n",
        "        all_preds.extend(predicted.cpu().numpy())\n",
        "\n",
        "        # Extend the all_labels list with true labels from this batch\n",
        "        all_labels.extend(labels.cpu().numpy())\n",
        "\n",
        "# Print a classification report which provides an overview of the model's performance for each class\n",
        "print(classification_report(all_labels, all_preds, target_names=classes))\n",
        "\n",
        "# Compute the confusion matrix using true labels and predictions\n",
        "cm = confusion_matrix(all_labels, all_preds)\n",
        "\n",
        "# Visualize the confusion matrix using seaborn's heatmap\n",
        "plt.figure(figsize=(10,8))\n",
        "sns.heatmap(cm, annot=True, fmt=\"d\", cmap=plt.cm.Blues, xticklabels=classes, yticklabels=classes)\n",
        "plt.xlabel('Predicted Label')  # x-axis label\n",
        "plt.ylabel('True Label')       # y-axis label\n",
        "plt.title('Confusion Matrix')  # Title of the plot\n",
        "plt.show()                     # Display the plot\n"
      ]
    },
    {
      "cell_type": "code",
      "source": [
        "# Initialize variables for overall loss and accuracy\n",
        "total_val_loss = 0\n",
        "val_correct = 0\n",
        "val_total = 0\n",
        "\n",
        "model.eval()  # Set the model to evaluation mode\n",
        "\n",
        "with torch.no_grad():  # Disable gradient calculation\n",
        "    for images, labels in testloader:\n",
        "        images, labels = images.to(device), labels.to(device)\n",
        "\n",
        "        # Forward pass\n",
        "        outputs = model(images)\n",
        "\n",
        "        # Compute the loss\n",
        "        loss = criterion(outputs, labels)\n",
        "        total_val_loss += loss.item()  # Accumulate loss\n",
        "\n",
        "        # Calculate predictions\n",
        "        _, predicted = torch.max(outputs.data, 1)\n",
        "        val_total += labels.size(0)\n",
        "        val_correct += (predicted == labels).sum().item()\n",
        "\n",
        "# Compute average validation loss and accuracy\n",
        "average_val_loss = total_val_loss / len(testloader)\n",
        "overall_accuracy = (val_correct / val_total) * 100\n",
        "\n",
        "print(f\"Overall Validation Loss: {average_val_loss:.4f}\")\n",
        "print(f\"Overall Validation Accuracy: {overall_accuracy:.2f}%\")\n"
      ],
      "metadata": {
        "colab": {
          "base_uri": "https://localhost:8080/"
        },
        "id": "lWwBkxl7wi3a",
        "outputId": "c1405d9c-bdee-43a8-a891-67c59addc767"
      },
      "id": "lWwBkxl7wi3a",
      "execution_count": 39,
      "outputs": [
        {
          "output_type": "stream",
          "name": "stdout",
          "text": [
            "Overall Validation Loss: 0.5887\n",
            "Overall Validation Accuracy: 91.54%\n"
          ]
        }
      ]
    }
  ],
  "metadata": {
    "accelerator": "GPU",
    "colab": {
      "gpuType": "T4",
      "provenance": []
    },
    "kernelspec": {
      "display_name": "Python 3",
      "name": "python3"
    },
    "language_info": {
      "codemirror_mode": {
        "name": "ipython",
        "version": 3
      },
      "file_extension": ".py",
      "mimetype": "text/x-python",
      "name": "python",
      "nbconvert_exporter": "python",
      "pygments_lexer": "ipython3",
      "version": "3.11.4"
    }
  },
  "nbformat": 4,
  "nbformat_minor": 5
}